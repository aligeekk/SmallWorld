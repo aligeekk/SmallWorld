{
 "cells": [
  {
   "cell_type": "code",
   "execution_count": 20,
   "metadata": {
    "collapsed": true
   },
   "outputs": [],
   "source": [
    "import requests\n",
    "r = requests.get('https://6io70nu9pi.execute-api.us-east-1.amazonaws.com/emilytest_smallworld/neighbors?uni=yh2901&testcaseID=1&node=1')"
   ]
  },
  {
   "cell_type": "code",
   "execution_count": 21,
   "metadata": {
    "collapsed": false
   },
   "outputs": [],
   "source": [
    "res = r.json()"
   ]
  },
  {
   "cell_type": "code",
   "execution_count": 22,
   "metadata": {
    "collapsed": false,
    "scrolled": true
   },
   "outputs": [
    {
     "data": {
      "text/plain": [
       "[{'4269': [2, 1.0]},\n",
       " {'6434': [5, 0.1]},\n",
       " {'8164': [25, 0.1]},\n",
       " {'15602': [1, 0.0]},\n",
       " {'38754': [7, 0.0]},\n",
       " {'38786': [16, 0.04]},\n",
       " {'45311': [17, 0.09]},\n",
       " {'46250': [113, 0.11]}]"
      ]
     },
     "execution_count": 22,
     "metadata": {},
     "output_type": "execute_result"
    }
   ],
   "source": [
    "res['neighbors']"
   ]
  },
  {
   "cell_type": "markdown",
   "metadata": {},
   "source": [
    "how to access nested Json element?\n",
    "note that\n",
    "neighbors is a list and not a dictionary. This line below should therefore not work:  \n",
    "\n",
    "    res['neighbors']['4269']\n",
    "You need to select one of the items in *neighbors* and then you can list the neighbor's features. So to get the first degree and local clustering coefficient you'd do:  \n",
    "\n",
    "    res['neighbors'][0]['4269']"
   ]
  },
  {
   "cell_type": "code",
   "execution_count": 28,
   "metadata": {
    "collapsed": false
   },
   "outputs": [
    {
     "data": {
      "text/plain": [
       "[2, 1.0]"
      ]
     },
     "execution_count": 28,
     "metadata": {},
     "output_type": "execute_result"
    }
   ],
   "source": [
    "res['neighbors'][0]['4269']"
   ]
  }
 ],
 "metadata": {
  "kernelspec": {
   "display_name": "Python 3",
   "language": "python",
   "name": "python3"
  },
  "language_info": {
   "codemirror_mode": {
    "name": "ipython",
    "version": 3
   },
   "file_extension": ".py",
   "mimetype": "text/x-python",
   "name": "python",
   "nbconvert_exporter": "python",
   "pygments_lexer": "ipython3",
   "version": "3.5.1"
  }
 },
 "nbformat": 4,
 "nbformat_minor": 0
}
