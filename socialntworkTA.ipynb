{
 "cells": [
  {
   "cell_type": "code",
   "execution_count": null,
   "metadata": {
    "collapsed": true
   },
   "outputs": [],
   "source": [
    "__author__\"Emily Hua\""
   ]
  },
  {
   "cell_type": "code",
   "execution_count": 1,
   "metadata": {
    "collapsed": false
   },
   "outputs": [],
   "source": [
    "import pandas as pd\n",
    "import numpy as np\n",
    "import networkx as nx"
   ]
  },
  {
   "cell_type": "code",
   "execution_count": 2,
   "metadata": {
    "collapsed": false,
    "scrolled": true
   },
   "outputs": [
    {
     "name": "stdout",
     "output_type": "stream",
     "text": [
      "total 2518576\r\n",
      "-rw-r--r--  1 yehua  staff         72 Nov  9 15:29 Untitled.ipynb\r\n",
      "-rw-r--r--@ 1 yehua  staff  706621807 Nov  9 17:57 checkin_usersGPS_largcomp_index.csv\r\n",
      "-rw-r--r--@ 1 yehua  staff  424684270 Nov  4 09:49 checkin_usersGPS_largcomp_training.csv\r\n",
      "-rw-r--r--  1 yehua  staff   86643814 Nov  4 14:35 checkin_usersGPS_largcomp_training.csv.zip\r\n",
      "-rw-r--r--  1 yehua  staff      28802 Nov  9 20:32 socialntworkTA-Copy1.ipynb\r\n",
      "-rw-r--r--  1 yehua  staff     325413 Nov  9 20:49 socialntworkTA.ipynb\r\n",
      "-rw-r--r--  1 yehua  staff    9273604 Nov  9 17:38 usersGPS_larg_comp_index.txt\r\n",
      "-rw-r--r--@ 1 yehua  staff    5992511 Nov  4 09:46 usersGPS_larg_comp_training.txt\r\n",
      "-rw-r--r--  1 yehua  staff    1885326 Nov  4 14:34 usersGPS_larg_comp_training.txt.zip\r\n",
      "-rw-r--r--@ 1 yehua  staff    1128631 Nov  9 12:12 usersGPS_test_coeff.txt\r\n",
      "-rw-r--r--@ 1 yehua  staff    1128631 Nov  9 12:10 usersGPS_test_degree.txt\r\n",
      "-rw-r--r--  1 yehua  staff   31254665 Nov  9 13:28 usersGPS_test_serverData2.txt\r\n",
      "-rw-r--r--@ 1 yehua  staff   20508022 Nov  4 09:47 usersGPS_training_serverData.txt\r\n"
     ]
    }
   ],
   "source": [
    "ls -l"
   ]
  },
  {
   "cell_type": "markdown",
   "metadata": {},
   "source": [
    "load check-in data"
   ]
  },
  {
   "cell_type": "code",
   "execution_count": 4,
   "metadata": {
    "collapsed": false
   },
   "outputs": [],
   "source": [
    "df_checkin = pd.read_csv(\"checkin_usersGPS_largcomp_index.csv\", header=None)"
   ]
  },
  {
   "cell_type": "code",
   "execution_count": 5,
   "metadata": {
    "collapsed": true
   },
   "outputs": [],
   "source": [
    "df_checkin.columns = ['node', 'latitude', 'logitude','epoch']"
   ]
  },
  {
   "cell_type": "code",
   "execution_count": 6,
   "metadata": {
    "collapsed": false,
    "scrolled": false
   },
   "outputs": [
    {
     "data": {
      "text/plain": [
       "(16345312, 4)"
      ]
     },
     "execution_count": 6,
     "metadata": {},
     "output_type": "execute_result"
    }
   ],
   "source": [
    "df_checkin.shape"
   ]
  },
  {
   "cell_type": "code",
   "execution_count": 7,
   "metadata": {
    "collapsed": true
   },
   "outputs": [],
   "source": [
    "df_checkin['node'] = df_checkin['node'].astype(int)"
   ]
  },
  {
   "cell_type": "code",
   "execution_count": 8,
   "metadata": {
    "collapsed": true
   },
   "outputs": [],
   "source": [
    "df_checkin['date'] = pd.to_datetime(df_checkin['epoch'],unit='s')"
   ]
  },
  {
   "cell_type": "code",
   "execution_count": 9,
   "metadata": {
    "collapsed": false
   },
   "outputs": [],
   "source": [
    "#I don't want to look at the epoch time anymore\n",
    "del df_checkin['epoch']"
   ]
  },
  {
   "cell_type": "code",
   "execution_count": 240,
   "metadata": {
    "collapsed": false,
    "scrolled": true
   },
   "outputs": [
    {
     "data": {
      "text/html": [
       "<div>\n",
       "<table border=\"1\" class=\"dataframe\">\n",
       "  <thead>\n",
       "    <tr style=\"text-align: right;\">\n",
       "      <th></th>\n",
       "      <th>node</th>\n",
       "      <th>latitude</th>\n",
       "      <th>logitude</th>\n",
       "      <th>date</th>\n",
       "    </tr>\n",
       "  </thead>\n",
       "  <tbody>\n",
       "    <tr>\n",
       "      <th>0</th>\n",
       "      <td>6200</td>\n",
       "      <td>40.82942</td>\n",
       "      <td>-73.920529</td>\n",
       "      <td>2013-08-31 20:45:49</td>\n",
       "    </tr>\n",
       "    <tr>\n",
       "      <th>1</th>\n",
       "      <td>6200</td>\n",
       "      <td>40.82942</td>\n",
       "      <td>-73.920529</td>\n",
       "      <td>2013-08-31 20:42:34</td>\n",
       "    </tr>\n",
       "  </tbody>\n",
       "</table>\n",
       "</div>"
      ],
      "text/plain": [
       "   node  latitude   logitude                date\n",
       "0  6200  40.82942 -73.920529 2013-08-31 20:45:49\n",
       "1  6200  40.82942 -73.920529 2013-08-31 20:42:34"
      ]
     },
     "execution_count": 240,
     "metadata": {},
     "output_type": "execute_result"
    }
   ],
   "source": [
    "#preview first 2 entries\n",
    "df_checkin[:2]"
   ]
  },
  {
   "cell_type": "markdown",
   "metadata": {},
   "source": [
    "keep the last check-in "
   ]
  },
  {
   "cell_type": "code",
   "execution_count": 11,
   "metadata": {
    "collapsed": false
   },
   "outputs": [],
   "source": [
    "idx = df_checkin.groupby(['node'])['date'].transform(max) == df_checkin['date']\n",
    "#print (idx)\n",
    "df_last_checkin = df_checkin[idx]"
   ]
  },
  {
   "cell_type": "code",
   "execution_count": 12,
   "metadata": {
    "collapsed": false
   },
   "outputs": [
    {
     "data": {
      "text/html": [
       "<div>\n",
       "<table border=\"1\" class=\"dataframe\">\n",
       "  <thead>\n",
       "    <tr style=\"text-align: right;\">\n",
       "      <th></th>\n",
       "      <th>node</th>\n",
       "      <th>latitude</th>\n",
       "      <th>logitude</th>\n",
       "      <th>date</th>\n",
       "    </tr>\n",
       "  </thead>\n",
       "  <tbody>\n",
       "    <tr>\n",
       "      <th>12955901</th>\n",
       "      <td>6200</td>\n",
       "      <td>19.050797</td>\n",
       "      <td>-98.283927</td>\n",
       "      <td>2013-09-06 04:36:41</td>\n",
       "    </tr>\n",
       "  </tbody>\n",
       "</table>\n",
       "</div>"
      ],
      "text/plain": [
       "          node   latitude   logitude                date\n",
       "12955901  6200  19.050797 -98.283927 2013-09-06 04:36:41"
      ]
     },
     "execution_count": 12,
     "metadata": {},
     "output_type": "execute_result"
    }
   ],
   "source": [
    "#checking node 6200\n",
    "df_last_checkin[df_last_checkin['node'] == 6200]"
   ]
  },
  {
   "cell_type": "markdown",
   "metadata": {},
   "source": [
    "load the edges "
   ]
  },
  {
   "cell_type": "code",
   "execution_count": 14,
   "metadata": {
    "collapsed": false
   },
   "outputs": [],
   "source": [
    "df_edges = pd.read_csv(\"usersGPS_larg_comp_index.txt\",sep=\" \", header=None)"
   ]
  },
  {
   "cell_type": "code",
   "execution_count": 15,
   "metadata": {
    "collapsed": true
   },
   "outputs": [],
   "source": [
    "df_edges.columns = ['node1','node2']"
   ]
  },
  {
   "cell_type": "code",
   "execution_count": 16,
   "metadata": {
    "collapsed": false
   },
   "outputs": [
    {
     "data": {
      "text/plain": [
       "(850158, 2)"
      ]
     },
     "execution_count": 16,
     "metadata": {},
     "output_type": "execute_result"
    }
   ],
   "source": [
    "df_edges.shape"
   ]
  },
  {
   "cell_type": "code",
   "execution_count": 17,
   "metadata": {
    "collapsed": false,
    "scrolled": true
   },
   "outputs": [
    {
     "data": {
      "text/html": [
       "<div>\n",
       "<table border=\"1\" class=\"dataframe\">\n",
       "  <thead>\n",
       "    <tr style=\"text-align: right;\">\n",
       "      <th></th>\n",
       "      <th>node1</th>\n",
       "      <th>node2</th>\n",
       "    </tr>\n",
       "  </thead>\n",
       "  <tbody>\n",
       "    <tr>\n",
       "      <th>0</th>\n",
       "      <td>0</td>\n",
       "      <td>1</td>\n",
       "    </tr>\n",
       "    <tr>\n",
       "      <th>1</th>\n",
       "      <td>0</td>\n",
       "      <td>2</td>\n",
       "    </tr>\n",
       "  </tbody>\n",
       "</table>\n",
       "</div>"
      ],
      "text/plain": [
       "   node1  node2\n",
       "0      0      1\n",
       "1      0      2"
      ]
     },
     "execution_count": 17,
     "metadata": {},
     "output_type": "execute_result"
    }
   ],
   "source": [
    "#preview first two rows\n",
    "df_edges[:2]"
   ]
  },
  {
   "cell_type": "markdown",
   "metadata": {},
   "source": [
    "undirected graph"
   ]
  },
  {
   "cell_type": "code",
   "execution_count": 18,
   "metadata": {
    "collapsed": false
   },
   "outputs": [],
   "source": [
    "G=nx.from_pandas_dataframe(df_edges, 'node1', 'node2')"
   ]
  },
  {
   "cell_type": "code",
   "execution_count": 19,
   "metadata": {
    "collapsed": false
   },
   "outputs": [],
   "source": [
    "#takes freaking long time to return\n",
    "#print(nx.average_shortest_path_length(G))"
   ]
  },
  {
   "cell_type": "markdown",
   "metadata": {},
   "source": [
    "Greedy Routing"
   ]
  },
  {
   "cell_type": "code",
   "execution_count": 20,
   "metadata": {
    "collapsed": true
   },
   "outputs": [],
   "source": [
    "source_node = 939\n",
    "target_node = 27878"
   ]
  },
  {
   "cell_type": "code",
   "execution_count": 278,
   "metadata": {
    "collapsed": false
   },
   "outputs": [],
   "source": [
    "#uses Euclidean distance squared\n",
    "def greedy_routing(G, source_node, target_node, checkin, df_degree):\n",
    "    import sys\n",
    "    target_la = checkin['latitude'][checkin['node']==target_node].tolist()\n",
    "    target_lo = checkin['logitude'][checkin['node']==target_node].tolist()\n",
    "    target_geo = np.array([target_la, target_lo]).T\n",
    "    print (\"target_geo \", target_geo)\n",
    "    counter = 0\n",
    "    prev_distance = sys.maxsize\n",
    "    visited_node = []\n",
    "    while ( target_node not in G.neighbors(source_node)):\n",
    "        visited_node.append(source_node)\n",
    "        neighbors = G.neighbors(source_node)\n",
    "        #now only return the half of the neighbors with highest degree\n",
    "        neighbors = return_half_top_degree_neighbors(df_degree, neighbors)\n",
    "        df_nodes = checkin[checkin['node'].isin(neighbors)] \n",
    "        geo_lists = [] #constains the latitude and logitude of the neighbors geo info from check-in\n",
    "        for i in range(0, len(df_nodes)):\n",
    "            geo_list = [df_nodes.iloc[i]['latitude'], df_nodes.iloc[i]['logitude']]\n",
    "            geo_lists.append(geo_list)\n",
    "        geo_lists = np.array(geo_lists)\n",
    "        distance = (target_geo - geo_lists)**2\n",
    "        distance = distance.sum(axis = 1)\n",
    "        min_index, local_min_distance = get_min_dis_node_index(distance, prev_distance, visited_node, df_nodes)   \n",
    "        prev_distance = local_min_distance\n",
    "        source_node = df_nodes.iloc[min_index].tolist()[0]\n",
    "        print (\"new source node: \", source_node)\n",
    "        counter += 1\n",
    "        if (counter > 200) :\n",
    "            break\n",
    "        \n",
    "    print (\"source_node: \", source_node)\n",
    "    print (counter)\n",
    "    "
   ]
  },
  {
   "cell_type": "code",
   "execution_count": 279,
   "metadata": {
    "collapsed": false
   },
   "outputs": [],
   "source": [
    "def get_min_dis_node_index(distance, pre_distance, visited_node, df_nodes):\n",
    "    import sys\n",
    "    from random import randint\n",
    "    local_min_distance = sys.maxsize\n",
    "    index = randint(0,len(distance) -1)\n",
    "    for i in range(len(distance)):\n",
    "                                            #avoid self-loop\n",
    "        if (distance[i] <= local_min_distance and distance[i] != pre_distance and df_nodes.iloc[i].tolist()[0] not in visited_node):\n",
    "            local_min_distance = distance[i]\n",
    "            index = i  \n",
    "    return (index, local_min_distance)\n",
    "        "
   ]
  },
  {
   "cell_type": "code",
   "execution_count": 280,
   "metadata": {
    "collapsed": false
   },
   "outputs": [],
   "source": [
    "def return_half_top_degree_neighbors(df_degree, neighbors):\n",
    "    import math\n",
    "    df_neighbors = df_degree[df_degree['node'].isin (neighbors)]\n",
    "    #look at top 50% \n",
    "    df_neighbors = df_neighbors.sort_values(by = ['degree'], ascending=False)\n",
    "    top_degree_neighbors = []\n",
    "    for i in range(math.ceil(df_neighbors.shape[0]/2)):\n",
    "        top_degree_neighbors.append(df_neighbors['node'].iloc[i])\n",
    "    return top_degree_neighbors"
   ]
  },
  {
   "cell_type": "code",
   "execution_count": 281,
   "metadata": {
    "collapsed": false,
    "scrolled": true
   },
   "outputs": [
    {
     "name": "stdout",
     "output_type": "stream",
     "text": [
      "target_geo  [[  39.04260259 -122.91504849]]\n",
      "new source node:  9802\n",
      "new source node:  1897\n",
      "new source node:  26631\n",
      "new source node:  10800\n",
      "new source node:  1413\n",
      "new source node:  52060\n",
      "new source node:  330\n",
      "new source node:  37743\n",
      "new source node:  12953\n",
      "new source node:  33238\n",
      "new source node:  109\n",
      "new source node:  9800\n",
      "new source node:  2293\n",
      "new source node:  14297\n",
      "new source node:  6795\n",
      "new source node:  38639\n",
      "new source node:  497\n",
      "new source node:  15071\n",
      "new source node:  4856\n",
      "new source node:  20496\n",
      "new source node:  2078\n",
      "new source node:  22753\n",
      "new source node:  472\n",
      "new source node:  13811\n",
      "new source node:  4554\n",
      "new source node:  31257\n",
      "new source node:  6092\n",
      "new source node:  26\n",
      "source_node:  26\n",
      "28\n"
     ]
    }
   ],
   "source": [
    "#57\t87575\n",
    "source_node = 1175\n",
    "target_node = 6573#6573#22300#59202#20526#63560#59202#23604#44204  #64884#71116#41916#13299#78126\n",
    "greedy_routing(G, source_node, target_node, df_last_checkin, df_degree)"
   ]
  },
  {
   "cell_type": "code",
   "execution_count": 282,
   "metadata": {
    "collapsed": false
   },
   "outputs": [
    {
     "data": {
      "text/plain": [
       "True"
      ]
     },
     "execution_count": 282,
     "metadata": {},
     "output_type": "execute_result"
    }
   ],
   "source": [
    "#sanity check\n",
    "6573 in G.neighbors(26)"
   ]
  },
  {
   "cell_type": "code",
   "execution_count": 237,
   "metadata": {
    "collapsed": false,
    "scrolled": true
   },
   "outputs": [
    {
     "name": "stdout",
     "output_type": "stream",
     "text": [
      "target_geo  [[ 59.98536744  30.28854983]]\n",
      "new source node:  40576\n",
      "new source node:  3098\n",
      "new source node:  21611\n",
      "new source node:  2040\n",
      "new source node:  35882\n",
      "new source node:  1297\n",
      "new source node:  22220\n",
      "source_node:  22220\n",
      "7\n"
     ]
    }
   ],
   "source": [
    "source_node = 836\n",
    "target_node = 111#6573#22300#59202#20526#63560#59202#23604#44204  #64884#71116#41916#13299#78126\n",
    "greedy_routing(G, source_node, target_node, df_last_checkin, df_degree)"
   ]
  },
  {
   "cell_type": "code",
   "execution_count": 196,
   "metadata": {
    "collapsed": false
   },
   "outputs": [
    {
     "data": {
      "text/plain": [
       "True"
      ]
     },
     "execution_count": 196,
     "metadata": {},
     "output_type": "execute_result"
    }
   ],
   "source": [
    "#how to check if a node in the neighbors of another node? \n",
    "6573 in G.neighbors(26)"
   ]
  },
  {
   "cell_type": "markdown",
   "metadata": {},
   "source": [
    "regression on testing the significance of degree and local_clustering_coefficient on the length of shortest path "
   ]
  },
  {
   "cell_type": "code",
   "execution_count": 24,
   "metadata": {
    "collapsed": false
   },
   "outputs": [],
   "source": [
    "df_coef = pd.read_csv(\"usersGPS_test_coeff.txt\", sep=\":\", header = None)\n",
    "df_coef.columns = ['node', 'coef']"
   ]
  },
  {
   "cell_type": "code",
   "execution_count": 25,
   "metadata": {
    "collapsed": false
   },
   "outputs": [
    {
     "data": {
      "text/html": [
       "<div>\n",
       "<table border=\"1\" class=\"dataframe\">\n",
       "  <thead>\n",
       "    <tr style=\"text-align: right;\">\n",
       "      <th></th>\n",
       "      <th>node</th>\n",
       "      <th>coef</th>\n",
       "    </tr>\n",
       "  </thead>\n",
       "  <tbody>\n",
       "    <tr>\n",
       "      <th>0</th>\n",
       "      <td>0</td>\n",
       "      <td>0.01</td>\n",
       "    </tr>\n",
       "    <tr>\n",
       "      <th>1</th>\n",
       "      <td>1</td>\n",
       "      <td>0.00</td>\n",
       "    </tr>\n",
       "    <tr>\n",
       "      <th>2</th>\n",
       "      <td>2</td>\n",
       "      <td>0.01</td>\n",
       "    </tr>\n",
       "  </tbody>\n",
       "</table>\n",
       "</div>"
      ],
      "text/plain": [
       "   node  coef\n",
       "0     0  0.01\n",
       "1     1  0.00\n",
       "2     2  0.01"
      ]
     },
     "execution_count": 25,
     "metadata": {},
     "output_type": "execute_result"
    }
   ],
   "source": [
    "df_coef[:3]"
   ]
  },
  {
   "cell_type": "code",
   "execution_count": 26,
   "metadata": {
    "collapsed": false
   },
   "outputs": [],
   "source": [
    "df_degree = pd.read_csv(\"usersGPS_test_degree.txt\",  sep=\":\", header = None)\n",
    "df_degree.columns = ['node', 'degree']"
   ]
  },
  {
   "cell_type": "code",
   "execution_count": 27,
   "metadata": {
    "collapsed": false
   },
   "outputs": [
    {
     "data": {
      "text/html": [
       "<div>\n",
       "<table border=\"1\" class=\"dataframe\">\n",
       "  <thead>\n",
       "    <tr style=\"text-align: right;\">\n",
       "      <th></th>\n",
       "      <th>node</th>\n",
       "      <th>degree</th>\n",
       "    </tr>\n",
       "  </thead>\n",
       "  <tbody>\n",
       "    <tr>\n",
       "      <th>0</th>\n",
       "      <td>0</td>\n",
       "      <td>25</td>\n",
       "    </tr>\n",
       "    <tr>\n",
       "      <th>1</th>\n",
       "      <td>1</td>\n",
       "      <td>329</td>\n",
       "    </tr>\n",
       "    <tr>\n",
       "      <th>2</th>\n",
       "      <td>2</td>\n",
       "      <td>445</td>\n",
       "    </tr>\n",
       "  </tbody>\n",
       "</table>\n",
       "</div>"
      ],
      "text/plain": [
       "   node  degree\n",
       "0     0      25\n",
       "1     1     329\n",
       "2     2     445"
      ]
     },
     "execution_count": 27,
     "metadata": {},
     "output_type": "execute_result"
    }
   ],
   "source": [
    "df_degree[:3]"
   ]
  },
  {
   "cell_type": "code",
   "execution_count": 29,
   "metadata": {
    "collapsed": true
   },
   "outputs": [],
   "source": [
    "#switch to numpy array, no need actually...\n",
    "#df_s_degree = df_degree.as_matrix()\n",
    "#df_s_coef = df_coef.as_matrix()"
   ]
  },
  {
   "cell_type": "code",
   "execution_count": 34,
   "metadata": {
    "collapsed": false
   },
   "outputs": [
    {
     "name": "stdout",
     "output_type": "stream",
     "text": [
      "[87202, 30309, 62870, 86499, 84917, 8204, 63291, 14880, 20974, 43614, 63097, 54561, 80554, 15477, 55149, 74634, 12960, 35709, 79356, 27039, 61526, 64674, 18822, 20484, 85245, 26808, 27671, 58360, 75681, 57806, 18464, 72589, 45194, 39973, 9941, 35589, 83168, 78270, 19029, 86311, 61401, 56229, 51783, 42420, 30718, 61423, 57130, 46318, 60495, 22669, 40166, 8963, 71731, 20066, 30741, 48501, 70625, 60181, 78661, 23683, 20942, 84293, 63245, 34768, 65227, 10747, 57697, 74311, 61319, 44445, 67994, 14528, 61744, 21816, 15813, 37719, 35149, 37325, 60307, 29258, 64090, 10425, 30646, 78557, 21484, 18492, 6888, 25564, 79999, 55864, 36691, 6860, 27522, 22255, 41749, 73624, 26340, 18702, 7288, 63519]\n"
     ]
    }
   ],
   "source": [
    "# number of distinct node in graph is 87586\n",
    "import random\n",
    "n = 100\n",
    "sel = random.sample(range(87586), n)\n",
    "print (sel)"
   ]
  },
  {
   "cell_type": "code",
   "execution_count": 35,
   "metadata": {
    "collapsed": false
   },
   "outputs": [
    {
     "name": "stdout",
     "output_type": "stream",
     "text": [
      "[2374, 2610, 75, 3999, 178, 1405, 3679, 2235, 4791, 4431, 1878, 3539, 3768, 3218, 1111, 3940, 3350, 3070, 1802, 4844, 2731, 2738, 4627, 227, 128, 3291, 1661, 4347, 147, 4038, 852, 126, 2223, 3734, 444, 1362, 1389, 4915, 2225, 2905, 1569, 3811, 639, 3927, 261, 4942, 1664, 713, 2439, 3287, 3783, 3397, 1620, 1226, 2775, 999, 1249, 1143, 813, 4680, 3973, 3897, 2747, 4774, 3228, 1896, 2677, 3646, 4201, 3763, 1416, 4778, 1246, 4650, 1268, 3470, 4467, 566, 4459, 4387, 4169, 461, 111, 4535, 3653, 2109, 795, 1228, 4264, 2536, 2692, 1748, 4450, 4274, 548, 576, 3247, 2640, 3030, 945]\n"
     ]
    }
   ],
   "source": [
    "import random\n",
    "n = 100\n",
    "sel1 = random.sample(range(5000), n)\n",
    "print (sel1)"
   ]
  },
  {
   "cell_type": "code",
   "execution_count": 36,
   "metadata": {
    "collapsed": false
   },
   "outputs": [
    {
     "name": "stdout",
     "output_type": "stream",
     "text": [
      "10000\n"
     ]
    }
   ],
   "source": [
    "#generate 10000 node pairs as source-target\n",
    "source_target_list = []\n",
    "for i in sel:\n",
    "    for j in sel1:\n",
    "        source_target_list.append([i, j])\n",
    "print (len(source_target_list))\n",
    "        "
   ]
  },
  {
   "cell_type": "code",
   "execution_count": 37,
   "metadata": {
    "collapsed": false
   },
   "outputs": [],
   "source": [
    "#calculate their shortest path length through networkx\n",
    "shortest_path_length = []\n",
    "for i in range(len(source_target_list)):\n",
    "    shortest_path_length.append(nx.shortest_path_length(G,source_target_list[i][0], source_target_list[i][1] ))"
   ]
  },
  {
   "cell_type": "code",
   "execution_count": 156,
   "metadata": {
    "collapsed": false
   },
   "outputs": [
    {
     "data": {
      "text/plain": [
       "4"
      ]
     },
     "execution_count": 156,
     "metadata": {},
     "output_type": "execute_result"
    }
   ],
   "source": [
    "#get the degree of a particular node\n",
    "df_degree['degree'][df_degree['node'] == source_target_list[1][0]].tolist()[0]"
   ]
  },
  {
   "cell_type": "code",
   "execution_count": 157,
   "metadata": {
    "collapsed": false
   },
   "outputs": [
    {
     "data": {
      "text/plain": [
       "0.0"
      ]
     },
     "execution_count": 157,
     "metadata": {},
     "output_type": "execute_result"
    }
   ],
   "source": [
    "df_coef['coef'][df_coef['node'] == source_target_list[1][0]].tolist()[0]"
   ]
  },
  {
   "cell_type": "code",
   "execution_count": 38,
   "metadata": {
    "collapsed": false
   },
   "outputs": [
    {
     "name": "stdout",
     "output_type": "stream",
     "text": [
      "0\n",
      "50\n",
      "100\n",
      "150\n",
      "200\n",
      "250\n",
      "300\n",
      "350\n",
      "400\n",
      "450\n",
      "500\n",
      "550\n",
      "600\n",
      "650\n",
      "700\n",
      "750\n",
      "800\n",
      "850\n",
      "900\n",
      "950\n",
      "1000\n",
      "1050\n",
      "1100\n",
      "1150\n",
      "1200\n",
      "1250\n",
      "1300\n",
      "1350\n",
      "1400\n",
      "1450\n",
      "1500\n",
      "1550\n",
      "1600\n",
      "1650\n",
      "1700\n",
      "1750\n",
      "1800\n",
      "1850\n",
      "1900\n",
      "1950\n",
      "2000\n",
      "2050\n",
      "2100\n",
      "2150\n",
      "2200\n",
      "2250\n",
      "2300\n",
      "2350\n",
      "2400\n",
      "2450\n",
      "2500\n",
      "2550\n",
      "2600\n",
      "2650\n",
      "2700\n",
      "2750\n",
      "2800\n",
      "2850\n",
      "2900\n",
      "2950\n",
      "3000\n",
      "3050\n",
      "3100\n",
      "3150\n",
      "3200\n",
      "3250\n",
      "3300\n",
      "3350\n",
      "3400\n",
      "3450\n",
      "3500\n",
      "3550\n",
      "3600\n",
      "3650\n",
      "3700\n",
      "3750\n",
      "3800\n",
      "3850\n",
      "3900\n",
      "3950\n",
      "4000\n",
      "4050\n",
      "4100\n",
      "4150\n",
      "4200\n",
      "4250\n",
      "4300\n",
      "4350\n",
      "4400\n",
      "4450\n",
      "4500\n",
      "4550\n",
      "4600\n",
      "4650\n",
      "4700\n",
      "4750\n",
      "4800\n",
      "4850\n",
      "4900\n",
      "4950\n",
      "5000\n",
      "5050\n",
      "5100\n",
      "5150\n",
      "5200\n",
      "5250\n",
      "5300\n",
      "5350\n",
      "5400\n",
      "5450\n",
      "5500\n",
      "5550\n",
      "5600\n",
      "5650\n",
      "5700\n",
      "5750\n",
      "5800\n",
      "5850\n",
      "5900\n",
      "5950\n",
      "6000\n",
      "6050\n",
      "6100\n",
      "6150\n",
      "6200\n",
      "6250\n",
      "6300\n",
      "6350\n",
      "6400\n",
      "6450\n",
      "6500\n",
      "6550\n",
      "6600\n",
      "6650\n",
      "6700\n",
      "6750\n",
      "6800\n",
      "6850\n",
      "6900\n",
      "6950\n",
      "7000\n",
      "7050\n",
      "7100\n",
      "7150\n",
      "7200\n",
      "7250\n",
      "7300\n",
      "7350\n",
      "7400\n",
      "7450\n",
      "7500\n",
      "7550\n",
      "7600\n",
      "7650\n",
      "7700\n",
      "7750\n",
      "7800\n",
      "7850\n",
      "7900\n",
      "7950\n",
      "8000\n",
      "8050\n",
      "8100\n",
      "8150\n",
      "8200\n",
      "8250\n",
      "8300\n",
      "8350\n",
      "8400\n",
      "8450\n",
      "8500\n",
      "8550\n",
      "8600\n",
      "8650\n",
      "8700\n",
      "8750\n",
      "8800\n",
      "8850\n",
      "8900\n",
      "8950\n",
      "9000\n",
      "9050\n",
      "9100\n",
      "9150\n",
      "9200\n",
      "9250\n",
      "9300\n",
      "9350\n",
      "9400\n",
      "9450\n",
      "9500\n",
      "9550\n",
      "9600\n",
      "9650\n",
      "9700\n",
      "9750\n",
      "9800\n",
      "9850\n",
      "9900\n",
      "9950\n"
     ]
    }
   ],
   "source": [
    "degree_list = [] #stores average degree of intermediary nodes (+source+target)\n",
    "coef_list = []#stores average coef of intermediary nodes (+source+target)\n",
    "for i in range(len(source_target_list)):\n",
    "    neigh = nx.shortest_path(G,source_target_list[i][0], source_target_list[i][1] )\n",
    "    degree_sum = 0\n",
    "    coef_sum = 0\n",
    "    for j in neigh:\n",
    "        degree_sum += df_degree['degree'][df_degree['node'] == j].tolist()[0]\n",
    "        coef_sum += df_coef['coef'][df_coef['node'] == j].tolist()[0]\n",
    "    degree_avg = degree_sum/len(neigh)\n",
    "    coef_avg = coef_sum/len(neigh)\n",
    "    degree_list.append(degree_avg)\n",
    "    coef_list.append(coef_avg)\n",
    "    if (i % 50 == 0 ):\n",
    "        print (i)\n",
    "    "
   ]
  },
  {
   "cell_type": "code",
   "execution_count": 244,
   "metadata": {
    "collapsed": false
   },
   "outputs": [
    {
     "name": "stdout",
     "output_type": "stream",
     "text": [
      "10000\n"
     ]
    }
   ],
   "source": [
    "degree_list[:5]\n",
    "print (len(degree_list))"
   ]
  },
  {
   "cell_type": "code",
   "execution_count": 245,
   "metadata": {
    "collapsed": false
   },
   "outputs": [
    {
     "name": "stdout",
     "output_type": "stream",
     "text": [
      "10000\n"
     ]
    }
   ],
   "source": [
    "coef_list[:5]\n",
    "print (len(coef_list))"
   ]
  },
  {
   "cell_type": "code",
   "execution_count": 45,
   "metadata": {
    "collapsed": false
   },
   "outputs": [
    {
     "name": "stdout",
     "output_type": "stream",
     "text": [
      "10000\n"
     ]
    }
   ],
   "source": [
    "shortest_path_length[:5]\n",
    "print (len(shortest_path_length))"
   ]
  },
  {
   "cell_type": "code",
   "execution_count": 51,
   "metadata": {
    "collapsed": true
   },
   "outputs": [],
   "source": [
    "#combine three lists into one pandas data frame\n",
    "regression_list = pd.DataFrame(\n",
    "    {'length': shortest_path_length,\n",
    "     'degree': degree_list,\n",
    "     'coef': coef_list\n",
    "    })"
   ]
  },
  {
   "cell_type": "code",
   "execution_count": 52,
   "metadata": {
    "collapsed": false
   },
   "outputs": [
    {
     "data": {
      "text/html": [
       "<div>\n",
       "<table border=\"1\" class=\"dataframe\">\n",
       "  <thead>\n",
       "    <tr style=\"text-align: right;\">\n",
       "      <th></th>\n",
       "      <th>coef</th>\n",
       "      <th>degree</th>\n",
       "      <th>length</th>\n",
       "    </tr>\n",
       "  </thead>\n",
       "  <tbody>\n",
       "    <tr>\n",
       "      <th>0</th>\n",
       "      <td>0.002857</td>\n",
       "      <td>384.428571</td>\n",
       "      <td>6</td>\n",
       "    </tr>\n",
       "    <tr>\n",
       "      <th>1</th>\n",
       "      <td>0.010000</td>\n",
       "      <td>446.166667</td>\n",
       "      <td>5</td>\n",
       "    </tr>\n",
       "    <tr>\n",
       "      <th>2</th>\n",
       "      <td>0.001429</td>\n",
       "      <td>92.857143</td>\n",
       "      <td>6</td>\n",
       "    </tr>\n",
       "    <tr>\n",
       "      <th>3</th>\n",
       "      <td>0.015714</td>\n",
       "      <td>58.714286</td>\n",
       "      <td>6</td>\n",
       "    </tr>\n",
       "    <tr>\n",
       "      <th>4</th>\n",
       "      <td>0.004286</td>\n",
       "      <td>23.428571</td>\n",
       "      <td>6</td>\n",
       "    </tr>\n",
       "  </tbody>\n",
       "</table>\n",
       "</div>"
      ],
      "text/plain": [
       "       coef      degree  length\n",
       "0  0.002857  384.428571       6\n",
       "1  0.010000  446.166667       5\n",
       "2  0.001429   92.857143       6\n",
       "3  0.015714   58.714286       6\n",
       "4  0.004286   23.428571       6"
      ]
     },
     "execution_count": 52,
     "metadata": {},
     "output_type": "execute_result"
    }
   ],
   "source": [
    "regression_list[:5] #preview first 5 rows"
   ]
  },
  {
   "cell_type": "code",
   "execution_count": 54,
   "metadata": {
    "collapsed": false,
    "scrolled": true
   },
   "outputs": [
    {
     "name": "stdout",
     "output_type": "stream",
     "text": [
      "Intercept    3.569074\n",
      "coef         2.654647\n",
      "degree      -0.000476\n",
      "dtype: float64\n",
      "correlation:  -0.184399550459\n",
      "                            OLS Regression Results                            \n",
      "==============================================================================\n",
      "Dep. Variable:                 length   R-squared:                       0.043\n",
      "Model:                            OLS   Adj. R-squared:                  0.043\n",
      "Method:                 Least Squares   F-statistic:                     226.9\n",
      "Date:                Wed, 09 Nov 2016   Prob (F-statistic):           4.40e-97\n",
      "Time:                        21:13:35   Log-Likelihood:                -10737.\n",
      "No. Observations:               10000   AIC:                         2.148e+04\n",
      "Df Residuals:                    9997   BIC:                         2.150e+04\n",
      "Df Model:                           2                                         \n",
      "Covariance Type:            nonrobust                                         \n",
      "==============================================================================\n",
      "                 coef    std err          t      P>|t|      [95.0% Conf. Int.]\n",
      "------------------------------------------------------------------------------\n",
      "Intercept      3.5691      0.013    281.781      0.000         3.544     3.594\n",
      "coef           2.6546      0.268      9.918      0.000         2.130     3.179\n",
      "degree        -0.0005   2.54e-05    -18.730      0.000        -0.001    -0.000\n",
      "==============================================================================\n",
      "Omnibus:                      561.314   Durbin-Watson:                   1.310\n",
      "Prob(Omnibus):                  0.000   Jarque-Bera (JB):              823.104\n",
      "Skew:                           0.495   Prob(JB):                    1.84e-179\n",
      "Kurtosis:                       3.997   Cond. No.                     1.73e+04\n",
      "==============================================================================\n",
      "\n",
      "Warnings:\n",
      "[1] Standard Errors assume that the covariance matrix of the errors is correctly specified.\n",
      "[2] The condition number is large, 1.73e+04. This might indicate that there are\n",
      "strong multicollinearity or other numerical problems.\n"
     ]
    }
   ],
   "source": [
    "#OLS regression\n",
    "from statsmodels.formula.api import ols\n",
    "import statsmodels.api as sm\n",
    "\n",
    "result = ols('length ~ coef + degree', data = regression_list).fit()\n",
    "print (result.params)\n",
    "print (\"correlation: \", regression_list['length'].corr(regression_list['degree']))\n",
    "print (result.summary())"
   ]
  },
  {
   "cell_type": "markdown",
   "metadata": {},
   "source": [
    "use robust standard error to avoid heteroskedasticity"
   ]
  },
  {
   "cell_type": "code",
   "execution_count": 248,
   "metadata": {
    "collapsed": false
   },
   "outputs": [
    {
     "name": "stdout",
     "output_type": "stream",
     "text": [
      "                            OLS Regression Results                            \n",
      "==============================================================================\n",
      "Dep. Variable:                 length   R-squared:                       0.043\n",
      "Model:                            OLS   Adj. R-squared:                  0.043\n",
      "Method:                 Least Squares   F-statistic:                     219.8\n",
      "Date:                Thu, 10 Nov 2016   Prob (F-statistic):           3.86e-94\n",
      "Time:                        16:22:19   Log-Likelihood:                -10737.\n",
      "No. Observations:               10000   AIC:                         2.148e+04\n",
      "Df Residuals:                    9997   BIC:                         2.150e+04\n",
      "Df Model:                           2                                         \n",
      "Covariance Type:                  HC1                                         \n",
      "==============================================================================\n",
      "                 coef    std err          t      P>|t|      [95.0% Conf. Int.]\n",
      "------------------------------------------------------------------------------\n",
      "Intercept      3.5691      0.013    278.049      0.000         3.544     3.594\n",
      "coef           2.6546      0.343      7.745      0.000         1.983     3.326\n",
      "degree        -0.0005   2.46e-05    -19.340      0.000        -0.001    -0.000\n",
      "==============================================================================\n",
      "Omnibus:                      561.314   Durbin-Watson:                   1.310\n",
      "Prob(Omnibus):                  0.000   Jarque-Bera (JB):              823.104\n",
      "Skew:                           0.495   Prob(JB):                    1.84e-179\n",
      "Kurtosis:                       3.997   Cond. No.                     1.73e+04\n",
      "==============================================================================\n",
      "\n",
      "Warnings:\n",
      "[1] Standard Errors are heteroscedasticity robust (HC1)\n",
      "[2] The condition number is large, 1.73e+04. This might indicate that there are\n",
      "strong multicollinearity or other numerical problems.\n"
     ]
    }
   ],
   "source": [
    "results_robust = result.get_robustcov_results(cov_type='HC1')\n",
    "print(results_robust.summary())"
   ]
  },
  {
   "cell_type": "markdown",
   "metadata": {
    "collapsed": true
   },
   "source": [
    "regression plotting"
   ]
  },
  {
   "cell_type": "code",
   "execution_count": 254,
   "metadata": {
    "collapsed": false
   },
   "outputs": [
    {
     "data": {
      "image/png": "[encoded data removed]",
      "text/plain": [
       "<matplotlib.figure.Figure at 0x14fc3d198>"
      ]
     },
     "metadata": {},
     "output_type": "display_data"
    }
   ],
   "source": [
    "%matplotlib inline\n",
    "import matplotlib.pyplot as plt\n",
    "fig = plt.figure(figsize=(12,8))\n",
    "fig = sm.graphics.plot_regress_exog(results_robust, \"coef\", fig=fig)"
   ]
  },
  {
   "cell_type": "markdown",
   "metadata": {},
   "source": [
    "coef has high variance "
   ]
  },
  {
   "cell_type": "code",
   "execution_count": 253,
   "metadata": {
    "collapsed": false
   },
   "outputs": [
    {
     "data": {
      "image/png": "[encoded data removed]",
      "text/plain": [
       "<matplotlib.figure.Figure at 0x14ea5aef0>"
      ]
     },
     "metadata": {},
     "output_type": "display_data"
    }
   ],
   "source": [
    "%matplotlib inline\n",
    "fig = plt.figure(figsize=(12,8))\n",
    "fig = sm.graphics.plot_regress_exog(results_robust, \"degree\", fig=fig)"
   ]
  },
  {
   "cell_type": "markdown",
   "metadata": {},
   "source": [
    "scratch code"
   ]
  },
  {
   "cell_type": "code",
   "execution_count": 20,
   "metadata": {
    "collapsed": false
   },
   "outputs": [],
   "source": [
    "source_node = 20750\n",
    "neighbors = G.neighbors(source_node)\n",
    "#print(\"node: \", source_node, \"neighbors: \", neighbors)\n",
    "df_nodes = df_last_checkin[df_last_checkin['node'].isin(neighbors)]\n"
   ]
  },
  {
   "cell_type": "code",
   "execution_count": 22,
   "metadata": {
    "collapsed": false
   },
   "outputs": [
    {
     "data": {
      "text/html": [
       "<div>\n",
       "<table border=\"1\" class=\"dataframe\">\n",
       "  <thead>\n",
       "    <tr style=\"text-align: right;\">\n",
       "      <th></th>\n",
       "      <th>node</th>\n",
       "      <th>latitude</th>\n",
       "      <th>logitude</th>\n",
       "      <th>date</th>\n",
       "    </tr>\n",
       "  </thead>\n",
       "  <tbody>\n",
       "    <tr>\n",
       "      <th>55275</th>\n",
       "      <td>319</td>\n",
       "      <td>38.1629</td>\n",
       "      <td>14.7449</td>\n",
       "      <td>2013-08-15 23:03:51</td>\n",
       "    </tr>\n",
       "    <tr>\n",
       "      <th>61470</th>\n",
       "      <td>338</td>\n",
       "      <td>34.1359</td>\n",
       "      <td>-118.2151</td>\n",
       "      <td>2013-09-04 02:07:12</td>\n",
       "    </tr>\n",
       "    <tr>\n",
       "      <th>61859</th>\n",
       "      <td>341</td>\n",
       "      <td>40.7565</td>\n",
       "      <td>-73.9863</td>\n",
       "      <td>2013-06-26 05:52:01</td>\n",
       "    </tr>\n",
       "    <tr>\n",
       "      <th>67427</th>\n",
       "      <td>367</td>\n",
       "      <td>41.7637</td>\n",
       "      <td>-87.8035</td>\n",
       "      <td>2013-09-01 19:40:18</td>\n",
       "    </tr>\n",
       "    <tr>\n",
       "      <th>73632</th>\n",
       "      <td>398</td>\n",
       "      <td>34.0947</td>\n",
       "      <td>-117.5887</td>\n",
       "      <td>2013-07-07 18:06:19</td>\n",
       "    </tr>\n",
       "  </tbody>\n",
       "</table>\n",
       "</div>"
      ],
      "text/plain": [
       "       node  latitude  logitude                date\n",
       "55275   319   38.1629   14.7449 2013-08-15 23:03:51\n",
       "61470   338   34.1359 -118.2151 2013-09-04 02:07:12\n",
       "61859   341   40.7565  -73.9863 2013-06-26 05:52:01\n",
       "67427   367   41.7637  -87.8035 2013-09-01 19:40:18\n",
       "73632   398   34.0947 -117.5887 2013-07-07 18:06:19"
      ]
     },
     "execution_count": 22,
     "metadata": {},
     "output_type": "execute_result"
    }
   ],
   "source": [
    "df_nodes[:5]"
   ]
  },
  {
   "cell_type": "code",
   "execution_count": 278,
   "metadata": {
    "collapsed": false
   },
   "outputs": [],
   "source": [
    "distance =np.array([ 8, 32, 0])"
   ]
  },
  {
   "cell_type": "code",
   "execution_count": 279,
   "metadata": {
    "collapsed": false
   },
   "outputs": [
    {
     "data": {
      "text/plain": [
       "0"
      ]
     },
     "execution_count": 279,
     "metadata": {},
     "output_type": "execute_result"
    }
   ],
   "source": [
    "min_distance(distance)"
   ]
  },
  {
   "cell_type": "code",
   "execution_count": 280,
   "metadata": {
    "collapsed": false
   },
   "outputs": [
    {
     "data": {
      "text/plain": [
       "7960.805543779999"
      ]
     },
     "execution_count": 280,
     "metadata": {},
     "output_type": "execute_result"
    }
   ],
   "source": [
    "(13.7542-38.1629)**2 + (100.5646-14.7449)**2"
   ]
  },
  {
   "cell_type": "code",
   "execution_count": 225,
   "metadata": {
    "collapsed": false
   },
   "outputs": [
    {
     "name": "stdout",
     "output_type": "stream",
     "text": [
      "[[1 2]]\n",
      "[[3 4]\n",
      " [5 6]]\n",
      "distance:  [[ 4  4]\n",
      " [16 16]]\n",
      "index:  1\n",
      "distance:  [ 8 32]\n"
     ]
    }
   ],
   "source": [
    "a = np.array([[ 1,  2]])\n",
    "b = np.array([[  3 , 4],[ 5 , 6]])\n",
    "print (a)\n",
    "print(b)\n",
    "distance = (a-b)**2\n",
    "print(\"distance: \", distance)\n",
    "distance = distance.sum(axis=1)\n",
    "print(\"index: \", distance.argmax())\n",
    "print (\"distance: \", distance)"
   ]
  },
  {
   "cell_type": "code",
   "execution_count": 151,
   "metadata": {
    "collapsed": false
   },
   "outputs": [
    {
     "data": {
      "text/plain": [
       "[45.7881]"
      ]
     },
     "execution_count": 151,
     "metadata": {},
     "output_type": "execute_result"
    }
   ],
   "source": [
    "df_last_checkin['latitude'].loc[df_last_checkin['node'] == target_node].tolist()"
   ]
  },
  {
   "cell_type": "code",
   "execution_count": 152,
   "metadata": {
    "collapsed": false
   },
   "outputs": [
    {
     "data": {
      "text/plain": [
       "[3.0992999999999999]"
      ]
     },
     "execution_count": 152,
     "metadata": {},
     "output_type": "execute_result"
    }
   ],
   "source": [
    "df_last_checkin['logitude'][df_last_checkin['node'] == target_node].tolist()"
   ]
  },
  {
   "cell_type": "code",
   "execution_count": 148,
   "metadata": {
    "collapsed": false
   },
   "outputs": [
    {
     "data": {
      "text/plain": [
       "42.688800000000001"
      ]
     },
     "execution_count": 148,
     "metadata": {},
     "output_type": "execute_result"
    }
   ],
   "source": [
    "np.linalg.norm(45.7881-\n",
    "               3.0993)"
   ]
  },
  {
   "cell_type": "code",
   "execution_count": 296,
   "metadata": {
    "collapsed": false
   },
   "outputs": [
    {
     "data": {
      "text/html": [
       "<div>\n",
       "<table border=\"1\" class=\"dataframe\">\n",
       "  <thead>\n",
       "    <tr style=\"text-align: right;\">\n",
       "      <th></th>\n",
       "      <th>node</th>\n",
       "      <th>latitude</th>\n",
       "      <th>logitude</th>\n",
       "      <th>date</th>\n",
       "    </tr>\n",
       "  </thead>\n",
       "  <tbody>\n",
       "    <tr>\n",
       "      <th>215991</th>\n",
       "      <td>939</td>\n",
       "      <td>58.3649</td>\n",
       "      <td>11.259</td>\n",
       "      <td>2012-09-13 19:12:30</td>\n",
       "    </tr>\n",
       "  </tbody>\n",
       "</table>\n",
       "</div>"
      ],
      "text/plain": [
       "        node  latitude  logitude                date\n",
       "215991   939   58.3649    11.259 2012-09-13 19:12:30"
      ]
     },
     "execution_count": 296,
     "metadata": {},
     "output_type": "execute_result"
    }
   ],
   "source": [
    "df_last_checkin[df_last_checkin['node']==939]"
   ]
  },
  {
   "cell_type": "code",
   "execution_count": 26,
   "metadata": {
    "collapsed": false
   },
   "outputs": [
    {
     "data": {
      "text/plain": [
       "(558149, 2)"
      ]
     },
     "execution_count": 26,
     "metadata": {},
     "output_type": "execute_result"
    }
   ],
   "source": [
    "df_edges.shape"
   ]
  },
  {
   "cell_type": "code",
   "execution_count": null,
   "metadata": {
    "collapsed": true
   },
   "outputs": [],
   "source": [
    "600"
   ]
  },
  {
   "cell_type": "code",
   "execution_count": 246,
   "metadata": {
    "collapsed": false
   },
   "outputs": [
    {
     "data": {
      "text/plain": [
       "'\\n#find the node pair that have shortest path at least 6\\nt = 0\\nfor i in range(143 , 47708 ):\\n    for j in range(47708):\\n        length = nx.shortest_path_length(G, i, j)\\n        if (length > 6):\\n            print (i,j, length)\\n            break;\\n        t += 1\\n        if (t >= 47708**2):\\n            break;\\n'"
      ]
     },
     "execution_count": 246,
     "metadata": {},
     "output_type": "execute_result"
    }
   ],
   "source": [
    "'''\n",
    "#find the node pair that have shortest path at least 6\n",
    "t = 0\n",
    "for i in range(143 , 47708 ):\n",
    "    for j in range(47708):\n",
    "        length = nx.shortest_path_length(G, i, j)\n",
    "        if (length > 6):\n",
    "            print (i,j, length)\n",
    "            break;\n",
    "        t += 1\n",
    "        if (t >= 47708**2):\n",
    "            break;\n",
    "'''       "
   ]
  },
  {
   "cell_type": "code",
   "execution_count": 247,
   "metadata": {
    "collapsed": false
   },
   "outputs": [
    {
     "data": {
      "text/plain": [
       "3"
      ]
     },
     "execution_count": 247,
     "metadata": {},
     "output_type": "execute_result"
    }
   ],
   "source": [
    "nx.shortest_path_length(G, 11, 7061)"
   ]
  }
 ],
 "metadata": {
  "kernelspec": {
   "display_name": "Python 3",
   "language": "python",
   "name": "python3"
  },
  "language_info": {
   "codemirror_mode": {
    "name": "ipython",
    "version": 3
   },
   "file_extension": ".py",
   "mimetype": "text/x-python",
   "name": "python",
   "nbconvert_exporter": "python",
   "pygments_lexer": "ipython3",
   "version": "3.5.1"
  }
 },
 "nbformat": 4,
 "nbformat_minor": 0
}
