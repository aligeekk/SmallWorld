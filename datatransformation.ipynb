{
 "cells": [
  {
   "cell_type": "code",
   "execution_count": 1,
   "metadata": {
    "collapsed": false
   },
   "outputs": [],
   "source": [
    "#new version! \n",
    "f1 = open(\"data_serverFormat.txt\")\n",
    "results = []\n",
    "counter = 0\n",
    "for line in f1:\n",
    "    line = line.rstrip('\\n')\n",
    "    l = line.split(':', 1)\n",
    "    temp = l[1].replace(\"}   \", \"},\")\n",
    "    temp = temp.replace('{', r'{\\\"')\n",
    "    temp = temp.replace(':', r'\\\":')\n",
    "    temp = temp.lstrip(\" \")\n",
    "    temp = temp.replace(':', ':[')\n",
    "    temp = temp.replace(\"}\", ']}')\n",
    "    right = '\"friends\": \"' + temp + '\"'\n",
    "    right = right.replace(\", ]\", ']')\n",
    "    if (counter == 58227):\n",
    "        l = '{\"node\" : \"' + l[0] + '\", ' + right +' } '\n",
    "    else :\n",
    "        l = '{\"node\" : \"' + l[0] + '\", ' + right +' },  '\n",
    "    counter += 1\n",
    "    results.append(l)\n",
    "\n",
    "\n",
    "\n",
    "\n",
    "\n"
   ]
  },
  {
   "cell_type": "code",
   "execution_count": 2,
   "metadata": {
    "collapsed": false
   },
   "outputs": [
    {
     "data": {
      "text/plain": [
       "'{\"node\" : \"0\", \"friends\": \"{\\\\\"6571\\\\\":[ 55, 0.13]}, {\\\\\"7657\\\\\":[ 49, 0.12]}, {\\\\\"11029\\\\\":[ 21, 0.35]}, {\\\\\"16438\\\\\":[ 2, 0.00]}, {\\\\\"21405\\\\\":[ 18, 0.24]}, {\\\\\"27264\\\\\":[ 7, 0.62]}, {\\\\\"40014\\\\\":[ 49, 0.09]}, {\\\\\"42554\\\\\":[ 106, 0.07]}, {\\\\\"53377\\\\\":[ 43, 0.10]}, \" },  '"
      ]
     },
     "execution_count": 2,
     "metadata": {},
     "output_type": "execute_result"
    }
   ],
   "source": [
    "results[0]"
   ]
  },
  {
   "cell_type": "code",
   "execution_count": 3,
   "metadata": {
    "collapsed": true
   },
   "outputs": [],
   "source": [
    "with open('./v3smallworld.json', 'w') as f:\n",
    "    for line in results:\n",
    "        f.write(\"%s\\n\" % str(line))\n",
    "\n"
   ]
  },
  {
   "cell_type": "code",
   "execution_count": null,
   "metadata": {
    "collapsed": true
   },
   "outputs": [],
   "source": []
  }
 ],
 "metadata": {
  "kernelspec": {
   "display_name": "Python 3",
   "language": "python",
   "name": "python3"
  },
  "language_info": {
   "codemirror_mode": {
    "name": "ipython",
    "version": 3
   },
   "file_extension": ".py",
   "mimetype": "text/x-python",
   "name": "python",
   "nbconvert_exporter": "python",
   "pygments_lexer": "ipython3",
   "version": "3.5.1"
  }
 },
 "nbformat": 4,
 "nbformat_minor": 0
}
